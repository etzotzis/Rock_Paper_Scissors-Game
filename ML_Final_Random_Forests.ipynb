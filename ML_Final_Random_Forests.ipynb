{
  "nbformat": 4,
  "nbformat_minor": 0,
  "metadata": {
    "colab": {
      "provenance": []
    },
    "kernelspec": {
      "name": "python3",
      "display_name": "Python 3"
    },
    "language_info": {
      "name": "python"
    }
  },
  "cells": [
    {
      "cell_type": "code",
      "execution_count": 1,
      "metadata": {
        "id": "kN9hSYVcZDbH"
      },
      "outputs": [],
      "source": [
        "import pandas as pd\n",
        "from sklearn.model_selection import train_test_split, GridSearchCV\n",
        "from sklearn.svm import SVC\n",
        "from sklearn.metrics import accuracy_score, classification_report\n",
        "import matplotlib.pyplot as plt\n",
        "from scipy.io import loadmat\n",
        "from sklearn.preprocessing import StandardScaler\n",
        "import numpy as np\n",
        "from sklearn.model_selection import train_test_split, GridSearchCV, cross_val_score, StratifiedKFold\n",
        "from sklearn.svm import SVC\n",
        "from sklearn.preprocessing import MinMaxScaler\n",
        "from sklearn.neighbors import KNeighborsClassifier\n",
        "import math\n",
        "from sklearn.linear_model import LogisticRegression\n",
        "from sklearn.decomposition import PCA\n",
        "from sklearn.ensemble import RandomForestClassifier\n",
        "import time\n",
        "from sklearn.neighbors import NearestCentroid\n",
        "from sklearn.pipeline import Pipeline\n",
        "from sklearn.decomposition import KernelPCA\n",
        "from sklearn.discriminant_analysis import LinearDiscriminantAnalysis\n",
        "from tabulate import tabulate\n",
        "from sklearn.datasets import fetch_openml\n",
        "from sklearn.manifold import TSNE\n",
        "from sklearn.cluster import SpectralClustering\n",
        "from google.colab.patches import cv2_imshow\n",
        "import cv2\n",
        "import tensorflow as tf\n",
        "from tensorflow import keras"
      ]
    },
    {
      "cell_type": "code",
      "source": [
        "import os\n",
        "import cv2\n",
        "import numpy as np\n",
        "\n",
        "x_pixels = 60 # Change Approprietly - Ratio should be 3/2\n",
        "y_pixels = 40\n",
        "pixels_shape = x_pixels*y_pixels\n",
        "\n",
        "data_dir = \"/content/drive/MyDrive/ML_EXs_datasets/ML - Final\"  # Replace with the actual path to your dataset folder\n",
        "\n",
        "X = []  # List to store resized images\n",
        "y = []  # List to store corresponding labels\n",
        "\n",
        "for label, folder_name in enumerate(os.listdir(data_dir)):\n",
        "    folder_path = os.path.join(data_dir, folder_name)\n",
        "    if os.path.isdir(folder_path):\n",
        "        for image_filename in os.listdir(folder_path):\n",
        "            image_path = os.path.join(folder_path, image_filename)\n",
        "            # Load and resize the image\n",
        "            image = cv2.imread(image_path)\n",
        "            image = cv2.resize(image, (x_pixels, y_pixels))\n",
        "            # Append the resized image to X\n",
        "            X.append(image)\n",
        "            # Append the corresponding label to y\n",
        "            y.append(label)\n",
        "\n",
        "# Convert X and y to NumPy arrays for further processing\n",
        "X = np.array(X)\n",
        "y = np.array(y)"
      ],
      "metadata": {
        "id": "5q9KucacZaJz"
      },
      "execution_count": 2,
      "outputs": []
    },
    {
      "cell_type": "code",
      "source": [
        "# Create an empty array to store the grayscale images\n",
        "X_gray = []\n",
        "\n",
        "# Iterate through each image in X and convert it to grayscale\n",
        "for image in X:\n",
        "    gray_image = cv2.cvtColor(image, cv2.COLOR_RGB2GRAY)\n",
        "    X_gray.append(gray_image)\n",
        "\n",
        "# Convert the list of grayscale images to a NumPy array\n",
        "X_gray = np.array(X_gray)\n",
        "\n",
        "# Check the shape of X_gray (it should be (2188, y_pixels, x_pixels))\n",
        "print(X_gray.shape)"
      ],
      "metadata": {
        "colab": {
          "base_uri": "https://localhost:8080/"
        },
        "id": "lVZZEZjZfNPC",
        "outputId": "31dd7f56-3b26-4ecd-a929-a29cbcb382c4"
      },
      "execution_count": 3,
      "outputs": [
        {
          "output_type": "stream",
          "name": "stdout",
          "text": [
            "(2188, 20, 30)\n"
          ]
        }
      ]
    },
    {
      "cell_type": "code",
      "source": [
        "# Normalize the pixel values to the range [0, 1]\n",
        "X_normalized = X_gray / 255.0\n",
        "\n",
        "# # Verify that the pixel values are now in the range [0, 1]\n",
        "# min_pixel_value = np.min(X_normalized)\n",
        "# max_pixel_value = np.max(X_normalized)\n",
        "# print(\"Minimum pixel value:\", min_pixel_value)\n",
        "# print(\"Maximum pixel value:\", max_pixel_value)"
      ],
      "metadata": {
        "id": "cLX_4l8cfcna"
      },
      "execution_count": 4,
      "outputs": []
    },
    {
      "cell_type": "code",
      "source": [
        "# Reshape X_normalized to (2188, 600)\n",
        "X_reshaped = X_normalized.reshape(X_normalized.shape[0], -1)\n",
        "\n",
        "# Check the shape of the resulting X_reshaped array\n",
        "print(\"X_reshaped shape:\", X_reshaped.shape)"
      ],
      "metadata": {
        "colab": {
          "base_uri": "https://localhost:8080/"
        },
        "id": "JwQWhrdaffwf",
        "outputId": "5eae79bd-7242-48f2-c0cb-3d0ba1b4e627"
      },
      "execution_count": 5,
      "outputs": [
        {
          "output_type": "stream",
          "name": "stdout",
          "text": [
            "X_reshaped shape: (2188, 600)\n"
          ]
        }
      ]
    },
    {
      "cell_type": "code",
      "source": [
        "# Create a dictionary to map the old labels to the new labels\n",
        "label_mapping = {0: 1, 1: 2, 2: 0}\n",
        "\n",
        "# Use NumPy to apply the label transformation\n",
        "y_transformed = np.vectorize(label_mapping.get)(y)\n",
        "\n",
        "y =y_transformed"
      ],
      "metadata": {
        "id": "8X6KkQv2fgcX"
      },
      "execution_count": 6,
      "outputs": []
    },
    {
      "cell_type": "code",
      "source": [
        "# Replace 'index_to_display' with the index of the image you want to display\n",
        "index_to_display = 4\n",
        "\n",
        "# Display the image at the specified index\n",
        "cv2_imshow(X_gray[index_to_display])"
      ],
      "metadata": {
        "colab": {
          "base_uri": "https://localhost:8080/",
          "height": 37
        },
        "id": "qev6i0_Bfiev",
        "outputId": "3875f148-7766-4327-b877-83e3b04c8394"
      },
      "execution_count": 7,
      "outputs": [
        {
          "output_type": "display_data",
          "data": {
            "text/plain": [
              "<PIL.Image.Image image mode=L size=30x20>"
            ],
            "image/png": "[encoded data removed]"
          },
          "metadata": {}
        }
      ]
    },
    {
      "cell_type": "code",
      "source": [
        "y[index_to_display]"
      ],
      "metadata": {
        "colab": {
          "base_uri": "https://localhost:8080/"
        },
        "id": "zTQURsz4fkBn",
        "outputId": "26de1b1a-cdf1-47ea-b3ff-a05776d0d7a3"
      },
      "execution_count": 8,
      "outputs": [
        {
          "output_type": "execute_result",
          "data": {
            "text/plain": [
              "1"
            ]
          },
          "metadata": {},
          "execution_count": 8
        }
      ]
    },
    {
      "cell_type": "code",
      "source": [
        "# Split the dataset into 80% training and 20% testing with stratified sampling\n",
        "X_train, X_test, y_train, y_test = train_test_split(X_reshaped, y, test_size=0.2, stratify=y, random_state=0)\n",
        "\n",
        "# Check the shapes of the resulting train and test sets\n",
        "print(\"X_train shape:\", X_train.shape)\n",
        "print(\"X_test shape:\", X_test.shape)\n",
        "print(\"y_train shape:\", y_train.shape)\n",
        "print(\"y_test shape:\", y_test.shape)"
      ],
      "metadata": {
        "colab": {
          "base_uri": "https://localhost:8080/"
        },
        "id": "GGXJ3U1iflvv",
        "outputId": "c68d19ac-f649-4818-836e-4bb372a23f5f"
      },
      "execution_count": 9,
      "outputs": [
        {
          "output_type": "stream",
          "name": "stdout",
          "text": [
            "X_train shape: (1750, 600)\n",
            "X_test shape: (438, 600)\n",
            "y_train shape: (1750,)\n",
            "y_test shape: (438,)\n"
          ]
        }
      ]
    },
    {
      "cell_type": "code",
      "source": [
        "rf_classifier = RandomForestClassifier(n_estimators=100, random_state=0)\n"
      ],
      "metadata": {
        "id": "-4hujGMSfnCP"
      },
      "execution_count": 10,
      "outputs": []
    },
    {
      "cell_type": "code",
      "source": [
        "rf_classifier.fit(X_train, y_train)"
      ],
      "metadata": {
        "colab": {
          "base_uri": "https://localhost:8080/",
          "height": 75
        },
        "id": "ShlQh5DdiO9t",
        "outputId": "49da059a-8e77-4c62-c652-388e475d2a74"
      },
      "execution_count": 11,
      "outputs": [
        {
          "output_type": "execute_result",
          "data": {
            "text/plain": [
              "RandomForestClassifier(random_state=0)"
            ],
            "text/html": [
              "<style>#sk-container-id-1 {color: black;background-color: white;}#sk-container-id-1 pre{padding: 0;}#sk-container-id-1 div.sk-toggleable {background-color: white;}#sk-container-id-1 label.sk-toggleable__label {cursor: pointer;display: block;width: 100%;margin-bottom: 0;padding: 0.3em;box-sizing: border-box;text-align: center;}#sk-container-id-1 label.sk-toggleable__label-arrow:before {content: \"▸\";float: left;margin-right: 0.25em;color: #696969;}#sk-container-id-1 label.sk-toggleable__label-arrow:hover:before {color: black;}#sk-container-id-1 div.sk-estimator:hover label.sk-toggleable__label-arrow:before {color: black;}#sk-container-id-1 div.sk-toggleable__content {max-height: 0;max-width: 0;overflow: hidden;text-align: left;background-color: #f0f8ff;}#sk-container-id-1 div.sk-toggleable__content pre {margin: 0.2em;color: black;border-radius: 0.25em;background-color: #f0f8ff;}#sk-container-id-1 input.sk-toggleable__control:checked~div.sk-toggleable__content {max-height: 200px;max-width: 100%;overflow: auto;}#sk-container-id-1 input.sk-toggleable__control:checked~label.sk-toggleable__label-arrow:before {content: \"▾\";}#sk-container-id-1 div.sk-estimator input.sk-toggleable__control:checked~label.sk-toggleable__label {background-color: #d4ebff;}#sk-container-id-1 div.sk-label input.sk-toggleable__control:checked~label.sk-toggleable__label {background-color: #d4ebff;}#sk-container-id-1 input.sk-hidden--visually {border: 0;clip: rect(1px 1px 1px 1px);clip: rect(1px, 1px, 1px, 1px);height: 1px;margin: -1px;overflow: hidden;padding: 0;position: absolute;width: 1px;}#sk-container-id-1 div.sk-estimator {font-family: monospace;background-color: #f0f8ff;border: 1px dotted black;border-radius: 0.25em;box-sizing: border-box;margin-bottom: 0.5em;}#sk-container-id-1 div.sk-estimator:hover {background-color: #d4ebff;}#sk-container-id-1 div.sk-parallel-item::after {content: \"\";width: 100%;border-bottom: 1px solid gray;flex-grow: 1;}#sk-container-id-1 div.sk-label:hover label.sk-toggleable__label {background-color: #d4ebff;}#sk-container-id-1 div.sk-serial::before {content: \"\";position: absolute;border-left: 1px solid gray;box-sizing: border-box;top: 0;bottom: 0;left: 50%;z-index: 0;}#sk-container-id-1 div.sk-serial {display: flex;flex-direction: column;align-items: center;background-color: white;padding-right: 0.2em;padding-left: 0.2em;position: relative;}#sk-container-id-1 div.sk-item {position: relative;z-index: 1;}#sk-container-id-1 div.sk-parallel {display: flex;align-items: stretch;justify-content: center;background-color: white;position: relative;}#sk-container-id-1 div.sk-item::before, #sk-container-id-1 div.sk-parallel-item::before {content: \"\";position: absolute;border-left: 1px solid gray;box-sizing: border-box;top: 0;bottom: 0;left: 50%;z-index: -1;}#sk-container-id-1 div.sk-parallel-item {display: flex;flex-direction: column;z-index: 1;position: relative;background-color: white;}#sk-container-id-1 div.sk-parallel-item:first-child::after {align-self: flex-end;width: 50%;}#sk-container-id-1 div.sk-parallel-item:last-child::after {align-self: flex-start;width: 50%;}#sk-container-id-1 div.sk-parallel-item:only-child::after {width: 0;}#sk-container-id-1 div.sk-dashed-wrapped {border: 1px dashed gray;margin: 0 0.4em 0.5em 0.4em;box-sizing: border-box;padding-bottom: 0.4em;background-color: white;}#sk-container-id-1 div.sk-label label {font-family: monospace;font-weight: bold;display: inline-block;line-height: 1.2em;}#sk-container-id-1 div.sk-label-container {text-align: center;}#sk-container-id-1 div.sk-container {/* jupyter's `normalize.less` sets `[hidden] { display: none; }` but bootstrap.min.css set `[hidden] { display: none !important; }` so we also need the `!important` here to be able to override the default hidden behavior on the sphinx rendered scikit-learn.org. See: https://github.com/scikit-learn/scikit-learn/issues/21755 */display: inline-block !important;position: relative;}#sk-container-id-1 div.sk-text-repr-fallback {display: none;}</style><div id=\"sk-container-id-1\" class=\"sk-top-container\"><div class=\"sk-text-repr-fallback\"><pre>RandomForestClassifier(random_state=0)</pre><b>In a Jupyter environment, please rerun this cell to show the HTML representation or trust the notebook. <br />On GitHub, the HTML representation is unable to render, please try loading this page with nbviewer.org.</b></div><div class=\"sk-container\" hidden><div class=\"sk-item\"><div class=\"sk-estimator sk-toggleable\"><input class=\"sk-toggleable__control sk-hidden--visually\" id=\"sk-estimator-id-1\" type=\"checkbox\" checked><label for=\"sk-estimator-id-1\" class=\"sk-toggleable__label sk-toggleable__label-arrow\">RandomForestClassifier</label><div class=\"sk-toggleable__content\"><pre>RandomForestClassifier(random_state=0)</pre></div></div></div></div></div>"
            ]
          },
          "metadata": {},
          "execution_count": 11
        }
      ]
    },
    {
      "cell_type": "code",
      "source": [
        "y_pred = rf_classifier.predict(X_test)"
      ],
      "metadata": {
        "id": "M3WJY2ppiSaz"
      },
      "execution_count": 12,
      "outputs": []
    },
    {
      "cell_type": "code",
      "source": [
        "test_accuracy = accuracy_score(y_test, y_pred)\n",
        "print(f\"Test accuracy: {test_accuracy * 100:.2f}%\")"
      ],
      "metadata": {
        "colab": {
          "base_uri": "https://localhost:8080/"
        },
        "id": "-mL11i-giWOE",
        "outputId": "bada83e3-86da-402e-e445-164bf034680f"
      },
      "execution_count": 13,
      "outputs": [
        {
          "output_type": "stream",
          "name": "stdout",
          "text": [
            "Test accuracy: 90.64%\n"
          ]
        }
      ]
    },
    {
      "cell_type": "markdown",
      "source": [
        "# Game on"
      ],
      "metadata": {
        "id": "YYjHngnhiZPT"
      }
    },
    {
      "cell_type": "code",
      "source": [
        "import numpy as np\n",
        "import random\n",
        "import cv2\n",
        "from sklearn.metrics import accuracy_score\n",
        "\n",
        "N = 1000  # Number of turns\n",
        "p1 = 0.5  # Probability of applying vertical flip\n",
        "p2 = 0.5  # Probability of applying horizontal flip\n",
        "sigma = 0.05  # Standard deviation for adding noise\n",
        "\n",
        "profit = 0"
      ],
      "metadata": {
        "id": "89vweihbiX68"
      },
      "execution_count": 14,
      "outputs": []
    },
    {
      "cell_type": "code",
      "source": [
        "game_accuracy = []\n",
        "profits_over_time = []"
      ],
      "metadata": {
        "id": "P07jYnMbif_9"
      },
      "execution_count": 15,
      "outputs": []
    },
    {
      "cell_type": "code",
      "source": [
        "for _ in range(N):\n",
        "    # Randomly select an image from the combined dataset (X_train and X_test)\n",
        "    #combined_dataset = np.concatenate((X_train, X_test), axis=0)\n",
        "    random_index = random.randint(0, X_train.shape[0] - 1) # or combined_dataset\n",
        "    selected_image = X_train[random_index]        # or combined_dataset\n",
        "\n",
        "    # Apply vertical flip with probability p1\n",
        "    if random.random() < p1:\n",
        "        selected_image = cv2.flip(selected_image, 0)\n",
        "\n",
        "    # Apply horizontal flip with probability p2\n",
        "    if random.random() < p2:\n",
        "        selected_image = cv2.flip(selected_image, 1)\n",
        "\n",
        "    # Add noise with mean 0 and standard deviation sigma\n",
        "    noise = np.random.normal(0, sigma, selected_image.shape).astype(np.float32)\n",
        "    noisy_image = selected_image + noise\n",
        "\n",
        "    # Reshape the image to match the model's input shape\n",
        "    noisy_image = noisy_image.reshape(1, pixels_shape)\n",
        "\n",
        "    # Make predictions using the trained model\n",
        "    predictions = rf_classifier.predict(noisy_image)\n",
        "\n",
        "    # Get the predicted class (index with the highest probability)\n",
        "    predicted_class = np.argmax(predictions)\n",
        "\n",
        "    # Calculate the true label (y) of the selected image\n",
        "    if random_index < X_train.shape[0]:\n",
        "        true_label = y_train[random_index]\n",
        "    else:\n",
        "        true_label = y_test[random_index - X_train.shape[0]]\n",
        "\n",
        "    # Check if the prediction is correct and update game_accuracy\n",
        "    is_correct = (predicted_class == true_label)\n",
        "    game_accuracy.append(is_correct)\n",
        "\n",
        "       # Check if the prediction is correct and update profit\n",
        "    if is_correct:\n",
        "        profit += 1\n",
        "    else:\n",
        "        profit -= 1\n",
        "\n",
        "    # Append the current profit to the profits_over_time list\n",
        "    profits_over_time.append(profit)"
      ],
      "metadata": {
        "id": "MC_YOJBOihXq"
      },
      "execution_count": 16,
      "outputs": []
    },
    {
      "cell_type": "code",
      "source": [
        "final_accuracy = np.mean(game_accuracy)\n",
        "print(f\"Game Accuracy: {final_accuracy * 100:.2f}%\")"
      ],
      "metadata": {
        "colab": {
          "base_uri": "https://localhost:8080/"
        },
        "id": "sU-HzP3kmWwS",
        "outputId": "059e27e0-3b45-4e47-85a3-9653f060f0a7"
      },
      "execution_count": 17,
      "outputs": [
        {
          "output_type": "stream",
          "name": "stdout",
          "text": [
            "Game Accuracy: 32.90%\n"
          ]
        }
      ]
    },
    {
      "cell_type": "code",
      "source": [
        "# Create a list of turn numbers from 1 to N\n",
        "turn_numbers = list(range(1, N + 1))\n",
        "\n",
        "# Plot the profit over time\n",
        "plt.figure(figsize=(10, 5))\n",
        "plt.plot(turn_numbers, profits_over_time)\n",
        "plt.xlabel(\"Turn Number\")\n",
        "plt.ylabel(\"Profit\")\n",
        "plt.title(\"Profit Over Time (Random Forest)\")\n",
        "plt.grid(True)\n",
        "plt.show()"
      ],
      "metadata": {
        "colab": {
          "base_uri": "https://localhost:8080/",
          "height": 487
        },
        "id": "3sI8cU0FmeG0",
        "outputId": "ec025651-7c8b-4c5f-db90-78660ebe2c30"
      },
      "execution_count": 18,
      "outputs": [
        {
          "output_type": "display_data",
          "data": {
            "text/plain": [
              "<Figure size 1000x500 with 1 Axes>"
            ],
            "image/png": "[encoded data removed]"
          },
          "metadata": {}
        }
      ]
    },
    {
      "cell_type": "code",
      "source": [],
      "metadata": {
        "id": "lKXodZVUmgxM"
      },
      "execution_count": 18,
      "outputs": []
    }
  ]
}